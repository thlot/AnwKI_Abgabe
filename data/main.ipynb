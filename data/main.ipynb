{
 "cells": [
  {
   "cell_type": "code",
   "execution_count": null,
   "metadata": {
    "vscode": {
     "languageId": "plaintext"
    }
   },
   "outputs": [],
   "source": [
    "# If your Python files are in a src folder:\n",
    "import sys\n",
    "sys.path.append('./src')  # Add src directory to Python path\n",
    "\n",
    "# Then import your modules\n",
    "from your_module import your_function"
   ]
  }
 ],
 "metadata": {
  "language_info": {
   "name": "python"
  }
 },
 "nbformat": 4,
 "nbformat_minor": 2
}
